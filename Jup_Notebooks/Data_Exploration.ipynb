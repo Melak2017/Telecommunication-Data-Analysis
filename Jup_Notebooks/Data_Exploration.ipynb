{
 "cells": [
  {
   "cell_type": "code",
   "execution_count": 1,
   "id": "8ddf2bb3",
   "metadata": {},
   "outputs": [],
   "source": [
    "import os\n",
    "import sys"
   ]
  },
  {
   "cell_type": "code",
   "execution_count": 2,
   "id": "0abdcaa9",
   "metadata": {},
   "outputs": [],
   "source": [
    "sys.path.append(os.path.abspath(os.path.join('Data')))\n",
    "sys.path.append(os.path.abspath(os.path.join('Scripts_')))\n",
    "sys.path.insert(0,'../Scripts_/')\n",
    "from Convertions import CleanTelecomData"
   ]
  },
  {
   "cell_type": "code",
   "execution_count": 5,
   "id": "de09cd71",
   "metadata": {},
   "outputs": [],
   "source": [
    "import pandas as pd\n",
    "import numpy as np\n"
   ]
  },
  {
   "cell_type": "code",
   "execution_count": 6,
   "id": "a6b47cb9",
   "metadata": {},
   "outputs": [],
   "source": [
    "df = pd.read_csv('../Data/clean_data_source(CSV).csv')"
   ]
  },
  {
   "cell_type": "code",
   "execution_count": 7,
   "id": "13f41b83",
   "metadata": {},
   "outputs": [
    {
     "name": "stdout",
     "output_type": "stream",
     "text": [
      "Automation in Action...!!!\n"
     ]
    }
   ],
   "source": [
    "Cleaned=CleanTelecomData(df)"
   ]
  },
  {
   "cell_type": "code",
   "execution_count": null,
   "id": "63dccea7",
   "metadata": {},
   "outputs": [],
   "source": []
  }
 ],
 "metadata": {
  "kernelspec": {
   "display_name": "Python 3",
   "language": "python",
   "name": "python3"
  },
  "language_info": {
   "codemirror_mode": {
    "name": "ipython",
    "version": 3
   },
   "file_extension": ".py",
   "mimetype": "text/x-python",
   "name": "python",
   "nbconvert_exporter": "python",
   "pygments_lexer": "ipython3",
   "version": "3.8.8"
  }
 },
 "nbformat": 4,
 "nbformat_minor": 5
}
