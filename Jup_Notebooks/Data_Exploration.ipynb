{
 "cells": [
  {
   "cell_type": "code",
   "execution_count": 1,
   "id": "8ddf2bb3",
   "metadata": {},
   "outputs": [],
   "source": [
    "import os\n",
    "import sys"
   ]
  },
  {
   "cell_type": "code",
   "execution_count": 2,
   "id": "0abdcaa9",
   "metadata": {},
   "outputs": [],
   "source": [
    "sys.path.append(os.path.abspath(os.path.join('Data')))\n",
    "sys.path.append(os.path.abspath(os.path.join('Scripts_')))\n",
    "sys.path.insert(0,'../Scripts_/')\n",
    "from Convertions import CleanTelecomData"
   ]
  },
  {
   "cell_type": "code",
   "execution_count": 3,
   "id": "de09cd71",
   "metadata": {},
   "outputs": [],
   "source": [
    "import pandas as pd\n",
    "import numpy as np\n",
    "import warnings\n",
    "warnings.filterwarnings('ignore')\n",
    "pd.set_option('max_columns', None)\n",
    "pd.set_option('max_rows', None)"
   ]
  },
  {
   "cell_type": "code",
   "execution_count": 4,
   "id": "a6b47cb9",
   "metadata": {},
   "outputs": [],
   "source": [
    "df = pd.read_csv('../Data/clean_data_source(CSV).csv')\n"
   ]
  },
  {
   "cell_type": "code",
   "execution_count": 5,
   "id": "13f41b83",
   "metadata": {},
   "outputs": [
    {
     "name": "stdout",
     "output_type": "stream",
     "text": [
      "Automation in Action...!!!\n"
     ]
    }
   ],
   "source": [
    "Cleaned=CleanTelecomData(df)"
   ]
  },
  {
   "cell_type": "code",
   "execution_count": 6,
   "id": "63dccea7",
   "metadata": {},
   "outputs": [
    {
     "name": "stdout",
     "output_type": "stream",
     "text": [
      "<class 'pandas.core.frame.DataFrame'>\n",
      "RangeIndex: 150001 entries, 0 to 150000\n",
      "Data columns (total 45 columns):\n",
      " #   Column                          Non-Null Count   Dtype  \n",
      "---  ------                          --------------   -----  \n",
      " 0   bearer_id                       150001 non-null  object \n",
      " 1   start                           150001 non-null  object \n",
      " 2   start_ms                        150001 non-null  float64\n",
      " 3   end                             150001 non-null  object \n",
      " 4   end_ms                          150001 non-null  float64\n",
      " 5   dur._(ms)                       150001 non-null  float64\n",
      " 6   imsi                            150001 non-null  object \n",
      " 7   msisdn/number                   150001 non-null  object \n",
      " 8   imei                            150001 non-null  object \n",
      " 9   last_location_name              150001 non-null  object \n",
      " 10  avg_rtt_dl_(ms)                 150001 non-null  float64\n",
      " 11  avg_rtt_ul_(ms)                 150001 non-null  float64\n",
      " 12  avg_bearer_tp_dl_(kbps)         150001 non-null  float64\n",
      " 13  avg_bearer_tp_ul_(kbps)         150001 non-null  float64\n",
      " 14  dl_tp_<_50_kbps_(%)             150001 non-null  float64\n",
      " 15  50_kbps_<_dl_tp_<_250_kbps_(%)  150001 non-null  float64\n",
      " 16  250_kbps_<_dl_tp_<_1_mbps_(%)   150001 non-null  float64\n",
      " 17  dl_tp_>_1_mbps_(%)              150001 non-null  float64\n",
      " 18  ul_tp_<_10_kbps_(%)             150001 non-null  float64\n",
      " 19  10_kbps_<_ul_tp_<_50_kbps_(%)   150001 non-null  float64\n",
      " 20  50_kbps_<_ul_tp_<_300_kbps_(%)  150001 non-null  float64\n",
      " 21  ul_tp_>_300_kbps_(%)            150001 non-null  float64\n",
      " 22  activity_duration_dl_(ms)       150001 non-null  float64\n",
      " 23  activity_duration_ul_(ms)       150001 non-null  float64\n",
      " 24  dur._(ms).1                     150001 non-null  float64\n",
      " 25  handset_manufacturer            150001 non-null  object \n",
      " 26  handset_type                    150001 non-null  object \n",
      " 27  nb_of_sec_with_vol_dl_<_6250b   150001 non-null  float64\n",
      " 28  nb_of_sec_with_vol_ul_<_1250b   150001 non-null  float64\n",
      " 29  social_media_dl_(bytes)         150001 non-null  float64\n",
      " 30  social_media_ul_(bytes)         150001 non-null  float64\n",
      " 31  google_dl_(bytes)               150001 non-null  float64\n",
      " 32  google_ul_(bytes)               150001 non-null  float64\n",
      " 33  email_dl_(bytes)                150001 non-null  float64\n",
      " 34  email_ul_(bytes)                150001 non-null  float64\n",
      " 35  youtube_dl_(bytes)              150001 non-null  float64\n",
      " 36  youtube_ul_(bytes)              150001 non-null  float64\n",
      " 37  netflix_dl_(bytes)              150001 non-null  float64\n",
      " 38  netflix_ul_(bytes)              150001 non-null  float64\n",
      " 39  gaming_dl_(bytes)               150001 non-null  float64\n",
      " 40  gaming_ul_(bytes)               150001 non-null  float64\n",
      " 41  other_dl_(bytes)                150001 non-null  float64\n",
      " 42  other_ul_(bytes)                150001 non-null  float64\n",
      " 43  total_ul_(bytes)                150000 non-null  float64\n",
      " 44  total_dl_(bytes)                150000 non-null  float64\n",
      "dtypes: float64(36), object(9)\n",
      "memory usage: 51.5+ MB\n"
     ]
    }
   ],
   "source": [
    "Cleaned.get_info()"
   ]
  },
  {
   "cell_type": "code",
   "execution_count": 7,
   "id": "6e54cab3",
   "metadata": {},
   "outputs": [
    {
     "name": "stdout",
     "output_type": "stream",
     "text": [
      "<class 'pandas.core.frame.DataFrame'>\n",
      "RangeIndex: 150001 entries, 0 to 150000\n",
      "Data columns (total 45 columns):\n",
      " #   Column                          Non-Null Count   Dtype  \n",
      "---  ------                          --------------   -----  \n",
      " 0   bearer_id                       150001 non-null  object \n",
      " 1   start                           150001 non-null  object \n",
      " 2   start_ms                        150001 non-null  float64\n",
      " 3   end                             150001 non-null  object \n",
      " 4   end_ms                          150001 non-null  float64\n",
      " 5   dur._(ms)                       150001 non-null  float64\n",
      " 6   imsi                            150001 non-null  object \n",
      " 7   msisdn/number                   150001 non-null  object \n",
      " 8   imei                            150001 non-null  object \n",
      " 9   last_location_name              150001 non-null  object \n",
      " 10  avg_rtt_dl_(ms)                 150001 non-null  float64\n",
      " 11  avg_rtt_ul_(ms)                 150001 non-null  float64\n",
      " 12  avg_bearer_tp_dl_(kbps)         150001 non-null  float64\n",
      " 13  avg_bearer_tp_ul_(kbps)         150001 non-null  float64\n",
      " 14  dl_tp_<_50_kbps_(%)             150001 non-null  float64\n",
      " 15  50_kbps_<_dl_tp_<_250_kbps_(%)  150001 non-null  float64\n",
      " 16  250_kbps_<_dl_tp_<_1_mbps_(%)   150001 non-null  float64\n",
      " 17  dl_tp_>_1_mbps_(%)              150001 non-null  float64\n",
      " 18  ul_tp_<_10_kbps_(%)             150001 non-null  float64\n",
      " 19  10_kbps_<_ul_tp_<_50_kbps_(%)   150001 non-null  float64\n",
      " 20  50_kbps_<_ul_tp_<_300_kbps_(%)  150001 non-null  float64\n",
      " 21  ul_tp_>_300_kbps_(%)            150001 non-null  float64\n",
      " 22  activity_duration_dl_(ms)       150001 non-null  float64\n",
      " 23  activity_duration_ul_(ms)       150001 non-null  float64\n",
      " 24  dur._(ms).1                     150001 non-null  float64\n",
      " 25  handset_manufacturer            150001 non-null  object \n",
      " 26  handset_type                    150001 non-null  object \n",
      " 27  nb_of_sec_with_vol_dl_<_6250b   150001 non-null  float64\n",
      " 28  nb_of_sec_with_vol_ul_<_1250b   150001 non-null  float64\n",
      " 29  social_media_dl_(bytes)         150001 non-null  float64\n",
      " 30  social_media_ul_(bytes)         150001 non-null  float64\n",
      " 31  google_dl_(bytes)               150001 non-null  float64\n",
      " 32  google_ul_(bytes)               150001 non-null  float64\n",
      " 33  email_dl_(bytes)                150001 non-null  float64\n",
      " 34  email_ul_(bytes)                150001 non-null  float64\n",
      " 35  youtube_dl_(bytes)              150001 non-null  float64\n",
      " 36  youtube_ul_(bytes)              150001 non-null  float64\n",
      " 37  netflix_dl_(bytes)              150001 non-null  float64\n",
      " 38  netflix_ul_(bytes)              150001 non-null  float64\n",
      " 39  gaming_dl_(bytes)               150001 non-null  float64\n",
      " 40  gaming_ul_(bytes)               150001 non-null  float64\n",
      " 41  other_dl_(bytes)                150001 non-null  float64\n",
      " 42  other_ul_(bytes)                150001 non-null  float64\n",
      " 43  total_ul_(bytes)                150000 non-null  float64\n",
      " 44  total_dl_(bytes)                150000 non-null  float64\n",
      "dtypes: float64(36), object(9)\n",
      "memory usage: 51.5+ MB\n",
      "Automation in Action...!!!\n"
     ]
    }
   ],
   "source": [
    "cleann= CleanTelecomData(Cleaned.get_info())"
   ]
  },
  {
   "cell_type": "code",
   "execution_count": 8,
   "id": "6facc583",
   "metadata": {},
   "outputs": [],
   "source": [
    "from Convertions import CleanTelecomData"
   ]
  },
  {
   "cell_type": "code",
   "execution_count": 9,
   "id": "b706cf2f",
   "metadata": {},
   "outputs": [
    {
     "name": "stdout",
     "output_type": "stream",
     "text": [
      "failed to convert to MB\n"
     ]
    }
   ],
   "source": [
    "cleann=Cleaned.bytes_to_megabytes(['total_dl_(bytes)','total_ul_(bytes)','youtube_ul_(bytes)','youtube_dl_(bytes)','google_dl_(bytes)','google_ul_(bytes)','netflix_dl_(bytes)','netflix_ul_(bytes)','gaming_dl_(bytes)','gaming_ul_(bytes)','email_dl_(bytes)','email_ul_(bytes)','google_dl_(bytes)','google_ul_(bytes)','social_media_dl_(bytes)','social_media_ul_(bytes)'])"
   ]
  },
  {
   "cell_type": "code",
   "execution_count": 10,
   "id": "3e1f8591",
   "metadata": {},
   "outputs": [
    {
     "data": {
      "text/html": [
       "<div>\n",
       "<style scoped>\n",
       "    .dataframe tbody tr th:only-of-type {\n",
       "        vertical-align: middle;\n",
       "    }\n",
       "\n",
       "    .dataframe tbody tr th {\n",
       "        vertical-align: top;\n",
       "    }\n",
       "\n",
       "    .dataframe thead th {\n",
       "        text-align: right;\n",
       "    }\n",
       "</style>\n",
       "<table border=\"1\" class=\"dataframe\">\n",
       "  <thead>\n",
       "    <tr style=\"text-align: right;\">\n",
       "      <th></th>\n",
       "      <th>bearer_id</th>\n",
       "      <th>start</th>\n",
       "      <th>start_ms</th>\n",
       "      <th>end</th>\n",
       "      <th>end_ms</th>\n",
       "      <th>dur._(ms)</th>\n",
       "      <th>imsi</th>\n",
       "      <th>msisdn/number</th>\n",
       "      <th>imei</th>\n",
       "      <th>last_location_name</th>\n",
       "      <th>avg_rtt_dl_(ms)</th>\n",
       "      <th>avg_rtt_ul_(ms)</th>\n",
       "      <th>avg_bearer_tp_dl_(kbps)</th>\n",
       "      <th>avg_bearer_tp_ul_(kbps)</th>\n",
       "      <th>dl_tp_&lt;_50_kbps_(%)</th>\n",
       "      <th>50_kbps_&lt;_dl_tp_&lt;_250_kbps_(%)</th>\n",
       "      <th>250_kbps_&lt;_dl_tp_&lt;_1_mbps_(%)</th>\n",
       "      <th>dl_tp_&gt;_1_mbps_(%)</th>\n",
       "      <th>ul_tp_&lt;_10_kbps_(%)</th>\n",
       "      <th>10_kbps_&lt;_ul_tp_&lt;_50_kbps_(%)</th>\n",
       "      <th>50_kbps_&lt;_ul_tp_&lt;_300_kbps_(%)</th>\n",
       "      <th>ul_tp_&gt;_300_kbps_(%)</th>\n",
       "      <th>activity_duration_dl_(ms)</th>\n",
       "      <th>activity_duration_ul_(ms)</th>\n",
       "      <th>dur._(ms).1</th>\n",
       "      <th>handset_manufacturer</th>\n",
       "      <th>handset_type</th>\n",
       "      <th>nb_of_sec_with_vol_dl_&lt;_6250b</th>\n",
       "      <th>nb_of_sec_with_vol_ul_&lt;_1250b</th>\n",
       "      <th>social_media_dl_(bytes)</th>\n",
       "      <th>social_media_ul_(bytes)</th>\n",
       "      <th>google_dl_(MegaBytes)</th>\n",
       "      <th>google_ul_(MegaBytes)</th>\n",
       "      <th>email_dl_(MegaBytes)</th>\n",
       "      <th>email_ul_(MegaBytes)</th>\n",
       "      <th>youtube_dl_(MegaBytes)</th>\n",
       "      <th>youtube_ul_(MegaBytes)</th>\n",
       "      <th>netflix_dl_(MegaBytes)</th>\n",
       "      <th>netflix_ul_(MegaBytes)</th>\n",
       "      <th>gaming_dl_(MegaBytes)</th>\n",
       "      <th>gaming_ul_(MegaBytes)</th>\n",
       "      <th>other_dl_(bytes)</th>\n",
       "      <th>other_ul_(bytes)</th>\n",
       "      <th>total_ul_(MegaBytes)</th>\n",
       "      <th>total_dl_(MegaBytes)</th>\n",
       "    </tr>\n",
       "  </thead>\n",
       "  <tbody>\n",
       "    <tr>\n",
       "      <th>0</th>\n",
       "      <td>13114483460844900352</td>\n",
       "      <td>2019-04-04 12:01:18</td>\n",
       "      <td>770.0</td>\n",
       "      <td>2019-04-25 14:35:31</td>\n",
       "      <td>662.0</td>\n",
       "      <td>1823652.0</td>\n",
       "      <td>208201448079117.0</td>\n",
       "      <td>33664962239.0</td>\n",
       "      <td>35521209507511.0</td>\n",
       "      <td>9164566995485190</td>\n",
       "      <td>42.000000</td>\n",
       "      <td>5.0</td>\n",
       "      <td>23.0</td>\n",
       "      <td>44.0</td>\n",
       "      <td>100.0</td>\n",
       "      <td>0.0</td>\n",
       "      <td>0.0</td>\n",
       "      <td>0.0</td>\n",
       "      <td>100.0</td>\n",
       "      <td>0.0</td>\n",
       "      <td>0.0</td>\n",
       "      <td>0.0</td>\n",
       "      <td>37624.0</td>\n",
       "      <td>38787.0</td>\n",
       "      <td>1.823653e+09</td>\n",
       "      <td>Samsung</td>\n",
       "      <td>Samsung Galaxy A5 Sm-A520F</td>\n",
       "      <td>213.0</td>\n",
       "      <td>214.0</td>\n",
       "      <td>1545765.0</td>\n",
       "      <td>24420.0</td>\n",
       "      <td>1.634479</td>\n",
       "      <td>1.271433</td>\n",
       "      <td>3.563542</td>\n",
       "      <td>0.137762</td>\n",
       "      <td>15.854611</td>\n",
       "      <td>2.501332</td>\n",
       "      <td>8.198936</td>\n",
       "      <td>9.656251</td>\n",
       "      <td>278.082303</td>\n",
       "      <td>14.344150</td>\n",
       "      <td>171744450.0</td>\n",
       "      <td>8814393.0</td>\n",
       "      <td>36.749741</td>\n",
       "      <td>308.879636</td>\n",
       "    </tr>\n",
       "    <tr>\n",
       "      <th>1</th>\n",
       "      <td>13114483482878900224</td>\n",
       "      <td>2019-04-09 13:04:04</td>\n",
       "      <td>235.0</td>\n",
       "      <td>2019-04-25 08:15:48</td>\n",
       "      <td>606.0</td>\n",
       "      <td>1365104.0</td>\n",
       "      <td>208201909211140.0</td>\n",
       "      <td>33681854413.0</td>\n",
       "      <td>35794009006359.0</td>\n",
       "      <td>L77566A</td>\n",
       "      <td>65.000000</td>\n",
       "      <td>5.0</td>\n",
       "      <td>16.0</td>\n",
       "      <td>26.0</td>\n",
       "      <td>100.0</td>\n",
       "      <td>0.0</td>\n",
       "      <td>0.0</td>\n",
       "      <td>0.0</td>\n",
       "      <td>100.0</td>\n",
       "      <td>0.0</td>\n",
       "      <td>0.0</td>\n",
       "      <td>0.0</td>\n",
       "      <td>168.0</td>\n",
       "      <td>3560.0</td>\n",
       "      <td>1.365104e+09</td>\n",
       "      <td>Samsung</td>\n",
       "      <td>Samsung Galaxy J5 (Sm-J530)</td>\n",
       "      <td>971.0</td>\n",
       "      <td>1022.0</td>\n",
       "      <td>1926113.0</td>\n",
       "      <td>7165.0</td>\n",
       "      <td>3.493924</td>\n",
       "      <td>0.920172</td>\n",
       "      <td>0.629046</td>\n",
       "      <td>0.308339</td>\n",
       "      <td>20.247395</td>\n",
       "      <td>19.111729</td>\n",
       "      <td>18.338413</td>\n",
       "      <td>17.227132</td>\n",
       "      <td>608.750074</td>\n",
       "      <td>1.170709</td>\n",
       "      <td>526904238.0</td>\n",
       "      <td>15055145.0</td>\n",
       "      <td>53.800391</td>\n",
       "      <td>653.384965</td>\n",
       "    </tr>\n",
       "    <tr>\n",
       "      <th>2</th>\n",
       "      <td>13114483484080500736</td>\n",
       "      <td>2019-04-09 17:42:11</td>\n",
       "      <td>1.0</td>\n",
       "      <td>2019-04-25 11:58:13</td>\n",
       "      <td>652.0</td>\n",
       "      <td>1361762.0</td>\n",
       "      <td>208200314458056.0</td>\n",
       "      <td>33760627129.0</td>\n",
       "      <td>35281510359387.0</td>\n",
       "      <td>D42335A</td>\n",
       "      <td>109.795706</td>\n",
       "      <td>6.0</td>\n",
       "      <td>6.0</td>\n",
       "      <td>9.0</td>\n",
       "      <td>100.0</td>\n",
       "      <td>0.0</td>\n",
       "      <td>0.0</td>\n",
       "      <td>0.0</td>\n",
       "      <td>100.0</td>\n",
       "      <td>0.0</td>\n",
       "      <td>0.0</td>\n",
       "      <td>0.0</td>\n",
       "      <td>0.0</td>\n",
       "      <td>0.0</td>\n",
       "      <td>1.361763e+09</td>\n",
       "      <td>Samsung</td>\n",
       "      <td>Samsung Galaxy A8 (2018)</td>\n",
       "      <td>751.0</td>\n",
       "      <td>695.0</td>\n",
       "      <td>1684053.0</td>\n",
       "      <td>42224.0</td>\n",
       "      <td>8.535055</td>\n",
       "      <td>1.694064</td>\n",
       "      <td>2.690151</td>\n",
       "      <td>0.672973</td>\n",
       "      <td>19.725661</td>\n",
       "      <td>14.699576</td>\n",
       "      <td>17.587794</td>\n",
       "      <td>6.163408</td>\n",
       "      <td>229.584621</td>\n",
       "      <td>0.395630</td>\n",
       "      <td>410692588.0</td>\n",
       "      <td>4215763.0</td>\n",
       "      <td>27.883638</td>\n",
       "      <td>279.807335</td>\n",
       "    </tr>\n",
       "    <tr>\n",
       "      <th>3</th>\n",
       "      <td>13114483485442799616</td>\n",
       "      <td>2019-04-10 00:31:25</td>\n",
       "      <td>486.0</td>\n",
       "      <td>2019-04-25 07:36:35</td>\n",
       "      <td>171.0</td>\n",
       "      <td>1321509.0</td>\n",
       "      <td>208201402342131.0</td>\n",
       "      <td>33750343200.0</td>\n",
       "      <td>35356610164913.0</td>\n",
       "      <td>T21824A</td>\n",
       "      <td>109.795706</td>\n",
       "      <td>44.0</td>\n",
       "      <td>44.0</td>\n",
       "      <td>44.0</td>\n",
       "      <td>100.0</td>\n",
       "      <td>0.0</td>\n",
       "      <td>0.0</td>\n",
       "      <td>0.0</td>\n",
       "      <td>100.0</td>\n",
       "      <td>0.0</td>\n",
       "      <td>0.0</td>\n",
       "      <td>0.0</td>\n",
       "      <td>3330.0</td>\n",
       "      <td>37882.0</td>\n",
       "      <td>1.321510e+09</td>\n",
       "      <td>undefined</td>\n",
       "      <td>undefined</td>\n",
       "      <td>17.0</td>\n",
       "      <td>207.0</td>\n",
       "      <td>644121.0</td>\n",
       "      <td>13372.0</td>\n",
       "      <td>9.023734</td>\n",
       "      <td>2.788027</td>\n",
       "      <td>1.439754</td>\n",
       "      <td>0.631229</td>\n",
       "      <td>21.388122</td>\n",
       "      <td>15.146643</td>\n",
       "      <td>13.994646</td>\n",
       "      <td>1.097942</td>\n",
       "      <td>799.538153</td>\n",
       "      <td>10.849722</td>\n",
       "      <td>749039933.0</td>\n",
       "      <td>12797283.0</td>\n",
       "      <td>43.324218</td>\n",
       "      <td>846.028530</td>\n",
       "    </tr>\n",
       "    <tr>\n",
       "      <th>4</th>\n",
       "      <td>13114483499480700928</td>\n",
       "      <td>2019-04-12 20:10:23</td>\n",
       "      <td>565.0</td>\n",
       "      <td>2019-04-25 10:40:32</td>\n",
       "      <td>954.0</td>\n",
       "      <td>1089009.0</td>\n",
       "      <td>208201401415120.0</td>\n",
       "      <td>33699795932.0</td>\n",
       "      <td>35407009745539.0</td>\n",
       "      <td>D88865A</td>\n",
       "      <td>109.795706</td>\n",
       "      <td>6.0</td>\n",
       "      <td>6.0</td>\n",
       "      <td>9.0</td>\n",
       "      <td>100.0</td>\n",
       "      <td>0.0</td>\n",
       "      <td>0.0</td>\n",
       "      <td>0.0</td>\n",
       "      <td>100.0</td>\n",
       "      <td>0.0</td>\n",
       "      <td>0.0</td>\n",
       "      <td>0.0</td>\n",
       "      <td>0.0</td>\n",
       "      <td>0.0</td>\n",
       "      <td>1.089009e+09</td>\n",
       "      <td>Samsung</td>\n",
       "      <td>Samsung Sm-G390F</td>\n",
       "      <td>607.0</td>\n",
       "      <td>604.0</td>\n",
       "      <td>862600.0</td>\n",
       "      <td>50188.0</td>\n",
       "      <td>6.248284</td>\n",
       "      <td>1.500559</td>\n",
       "      <td>1.936496</td>\n",
       "      <td>0.173853</td>\n",
       "      <td>15.259380</td>\n",
       "      <td>18.962873</td>\n",
       "      <td>17.124581</td>\n",
       "      <td>0.415218</td>\n",
       "      <td>527.707248</td>\n",
       "      <td>3.529801</td>\n",
       "      <td>550709500.0</td>\n",
       "      <td>13910322.0</td>\n",
       "      <td>38.542814</td>\n",
       "      <td>569.138589</td>\n",
       "    </tr>\n",
       "  </tbody>\n",
       "</table>\n",
       "</div>"
      ],
      "text/plain": [
       "              bearer_id                start  start_ms                  end  \\\n",
       "0  13114483460844900352  2019-04-04 12:01:18     770.0  2019-04-25 14:35:31   \n",
       "1  13114483482878900224  2019-04-09 13:04:04     235.0  2019-04-25 08:15:48   \n",
       "2  13114483484080500736  2019-04-09 17:42:11       1.0  2019-04-25 11:58:13   \n",
       "3  13114483485442799616  2019-04-10 00:31:25     486.0  2019-04-25 07:36:35   \n",
       "4  13114483499480700928  2019-04-12 20:10:23     565.0  2019-04-25 10:40:32   \n",
       "\n",
       "   end_ms  dur._(ms)               imsi  msisdn/number              imei  \\\n",
       "0   662.0  1823652.0  208201448079117.0  33664962239.0  35521209507511.0   \n",
       "1   606.0  1365104.0  208201909211140.0  33681854413.0  35794009006359.0   \n",
       "2   652.0  1361762.0  208200314458056.0  33760627129.0  35281510359387.0   \n",
       "3   171.0  1321509.0  208201402342131.0  33750343200.0  35356610164913.0   \n",
       "4   954.0  1089009.0  208201401415120.0  33699795932.0  35407009745539.0   \n",
       "\n",
       "  last_location_name  avg_rtt_dl_(ms)  avg_rtt_ul_(ms)  \\\n",
       "0   9164566995485190        42.000000              5.0   \n",
       "1            L77566A        65.000000              5.0   \n",
       "2            D42335A       109.795706              6.0   \n",
       "3            T21824A       109.795706             44.0   \n",
       "4            D88865A       109.795706              6.0   \n",
       "\n",
       "   avg_bearer_tp_dl_(kbps)  avg_bearer_tp_ul_(kbps)  dl_tp_<_50_kbps_(%)  \\\n",
       "0                     23.0                     44.0                100.0   \n",
       "1                     16.0                     26.0                100.0   \n",
       "2                      6.0                      9.0                100.0   \n",
       "3                     44.0                     44.0                100.0   \n",
       "4                      6.0                      9.0                100.0   \n",
       "\n",
       "   50_kbps_<_dl_tp_<_250_kbps_(%)  250_kbps_<_dl_tp_<_1_mbps_(%)  \\\n",
       "0                             0.0                            0.0   \n",
       "1                             0.0                            0.0   \n",
       "2                             0.0                            0.0   \n",
       "3                             0.0                            0.0   \n",
       "4                             0.0                            0.0   \n",
       "\n",
       "   dl_tp_>_1_mbps_(%)  ul_tp_<_10_kbps_(%)  10_kbps_<_ul_tp_<_50_kbps_(%)  \\\n",
       "0                 0.0                100.0                            0.0   \n",
       "1                 0.0                100.0                            0.0   \n",
       "2                 0.0                100.0                            0.0   \n",
       "3                 0.0                100.0                            0.0   \n",
       "4                 0.0                100.0                            0.0   \n",
       "\n",
       "   50_kbps_<_ul_tp_<_300_kbps_(%)  ul_tp_>_300_kbps_(%)  \\\n",
       "0                             0.0                   0.0   \n",
       "1                             0.0                   0.0   \n",
       "2                             0.0                   0.0   \n",
       "3                             0.0                   0.0   \n",
       "4                             0.0                   0.0   \n",
       "\n",
       "   activity_duration_dl_(ms)  activity_duration_ul_(ms)   dur._(ms).1  \\\n",
       "0                    37624.0                    38787.0  1.823653e+09   \n",
       "1                      168.0                     3560.0  1.365104e+09   \n",
       "2                        0.0                        0.0  1.361763e+09   \n",
       "3                     3330.0                    37882.0  1.321510e+09   \n",
       "4                        0.0                        0.0  1.089009e+09   \n",
       "\n",
       "  handset_manufacturer                 handset_type  \\\n",
       "0              Samsung   Samsung Galaxy A5 Sm-A520F   \n",
       "1              Samsung  Samsung Galaxy J5 (Sm-J530)   \n",
       "2              Samsung     Samsung Galaxy A8 (2018)   \n",
       "3            undefined                    undefined   \n",
       "4              Samsung             Samsung Sm-G390F   \n",
       "\n",
       "   nb_of_sec_with_vol_dl_<_6250b  nb_of_sec_with_vol_ul_<_1250b  \\\n",
       "0                          213.0                          214.0   \n",
       "1                          971.0                         1022.0   \n",
       "2                          751.0                          695.0   \n",
       "3                           17.0                          207.0   \n",
       "4                          607.0                          604.0   \n",
       "\n",
       "   social_media_dl_(bytes)  social_media_ul_(bytes)  google_dl_(MegaBytes)  \\\n",
       "0                1545765.0                  24420.0               1.634479   \n",
       "1                1926113.0                   7165.0               3.493924   \n",
       "2                1684053.0                  42224.0               8.535055   \n",
       "3                 644121.0                  13372.0               9.023734   \n",
       "4                 862600.0                  50188.0               6.248284   \n",
       "\n",
       "   google_ul_(MegaBytes)  email_dl_(MegaBytes)  email_ul_(MegaBytes)  \\\n",
       "0               1.271433              3.563542              0.137762   \n",
       "1               0.920172              0.629046              0.308339   \n",
       "2               1.694064              2.690151              0.672973   \n",
       "3               2.788027              1.439754              0.631229   \n",
       "4               1.500559              1.936496              0.173853   \n",
       "\n",
       "   youtube_dl_(MegaBytes)  youtube_ul_(MegaBytes)  netflix_dl_(MegaBytes)  \\\n",
       "0               15.854611                2.501332                8.198936   \n",
       "1               20.247395               19.111729               18.338413   \n",
       "2               19.725661               14.699576               17.587794   \n",
       "3               21.388122               15.146643               13.994646   \n",
       "4               15.259380               18.962873               17.124581   \n",
       "\n",
       "   netflix_ul_(MegaBytes)  gaming_dl_(MegaBytes)  gaming_ul_(MegaBytes)  \\\n",
       "0                9.656251             278.082303              14.344150   \n",
       "1               17.227132             608.750074               1.170709   \n",
       "2                6.163408             229.584621               0.395630   \n",
       "3                1.097942             799.538153              10.849722   \n",
       "4                0.415218             527.707248               3.529801   \n",
       "\n",
       "   other_dl_(bytes)  other_ul_(bytes)  total_ul_(MegaBytes)  \\\n",
       "0       171744450.0         8814393.0             36.749741   \n",
       "1       526904238.0        15055145.0             53.800391   \n",
       "2       410692588.0         4215763.0             27.883638   \n",
       "3       749039933.0        12797283.0             43.324218   \n",
       "4       550709500.0        13910322.0             38.542814   \n",
       "\n",
       "   total_dl_(MegaBytes)  \n",
       "0            308.879636  \n",
       "1            653.384965  \n",
       "2            279.807335  \n",
       "3            846.028530  \n",
       "4            569.138589  "
      ]
     },
     "execution_count": 10,
     "metadata": {},
     "output_type": "execute_result"
    }
   ],
   "source": [
    "cleann.head()"
   ]
  },
  {
   "cell_type": "markdown",
   "id": "568de9d3",
   "metadata": {},
   "source": [
    "### Task 1.1"
   ]
  },
  {
   "cell_type": "markdown",
   "id": "c9028894",
   "metadata": {},
   "source": [
    "###### Number of xDR sessions"
   ]
  },
  {
   "cell_type": "code",
   "execution_count": 11,
   "id": "d1c0571b",
   "metadata": {},
   "outputs": [
    {
     "data": {
      "text/html": [
       "<div>\n",
       "<style scoped>\n",
       "    .dataframe tbody tr th:only-of-type {\n",
       "        vertical-align: middle;\n",
       "    }\n",
       "\n",
       "    .dataframe tbody tr th {\n",
       "        vertical-align: top;\n",
       "    }\n",
       "\n",
       "    .dataframe thead th {\n",
       "        text-align: right;\n",
       "    }\n",
       "</style>\n",
       "<table border=\"1\" class=\"dataframe\">\n",
       "  <thead>\n",
       "    <tr style=\"text-align: right;\">\n",
       "      <th></th>\n",
       "      <th>xDR_sessions</th>\n",
       "    </tr>\n",
       "    <tr>\n",
       "      <th>msisdn/number</th>\n",
       "      <th></th>\n",
       "    </tr>\n",
       "  </thead>\n",
       "  <tbody>\n",
       "    <tr>\n",
       "      <th>109.79570605376027</th>\n",
       "      <td>97</td>\n",
       "    </tr>\n",
       "    <tr>\n",
       "      <th>109.79570605376028</th>\n",
       "      <td>39</td>\n",
       "    </tr>\n",
       "    <tr>\n",
       "      <th>33626320676.0</th>\n",
       "      <td>18</td>\n",
       "    </tr>\n",
       "    <tr>\n",
       "      <th>33625779332.0</th>\n",
       "      <td>17</td>\n",
       "    </tr>\n",
       "    <tr>\n",
       "      <th>33614892860.0</th>\n",
       "      <td>16</td>\n",
       "    </tr>\n",
       "    <tr>\n",
       "      <th>33760536639.0</th>\n",
       "      <td>14</td>\n",
       "    </tr>\n",
       "    <tr>\n",
       "      <th>33675877202.0</th>\n",
       "      <td>13</td>\n",
       "    </tr>\n",
       "    <tr>\n",
       "      <th>33667163239.0</th>\n",
       "      <td>13</td>\n",
       "    </tr>\n",
       "    <tr>\n",
       "      <th>33603127838.0</th>\n",
       "      <td>12</td>\n",
       "    </tr>\n",
       "    <tr>\n",
       "      <th>33659725664.0</th>\n",
       "      <td>12</td>\n",
       "    </tr>\n",
       "  </tbody>\n",
       "</table>\n",
       "</div>"
      ],
      "text/plain": [
       "                    xDR_sessions\n",
       "msisdn/number                   \n",
       "109.79570605376027            97\n",
       "109.79570605376028            39\n",
       "33626320676.0                 18\n",
       "33625779332.0                 17\n",
       "33614892860.0                 16\n",
       "33760536639.0                 14\n",
       "33675877202.0                 13\n",
       "33667163239.0                 13\n",
       "33603127838.0                 12\n",
       "33659725664.0                 12"
      ]
     },
     "execution_count": 11,
     "metadata": {},
     "output_type": "execute_result"
    }
   ],
   "source": [
    "xDR_sessions = cleann.groupby('msisdn/number').agg({'bearer_id': 'count'})\n",
    "xDR_sessions = xDR_sessions.rename(columns= {'bearer_id': 'xDR_sessions'})\n",
    "xDR_sessions.sort_values(by=['xDR_sessions'], ascending = False).head(10)"
   ]
  },
  {
   "cell_type": "code",
   "execution_count": 12,
   "id": "02e76db1",
   "metadata": {},
   "outputs": [
    {
     "data": {
      "text/html": [
       "<div>\n",
       "<style scoped>\n",
       "    .dataframe tbody tr th:only-of-type {\n",
       "        vertical-align: middle;\n",
       "    }\n",
       "\n",
       "    .dataframe tbody tr th {\n",
       "        vertical-align: top;\n",
       "    }\n",
       "\n",
       "    .dataframe thead th {\n",
       "        text-align: right;\n",
       "    }\n",
       "</style>\n",
       "<table border=\"1\" class=\"dataframe\">\n",
       "  <thead>\n",
       "    <tr style=\"text-align: right;\">\n",
       "      <th></th>\n",
       "      <th>xDR_sessions</th>\n",
       "    </tr>\n",
       "  </thead>\n",
       "  <tbody>\n",
       "    <tr>\n",
       "      <th>count</th>\n",
       "      <td>117287.000000</td>\n",
       "    </tr>\n",
       "    <tr>\n",
       "      <th>mean</th>\n",
       "      <td>1.278923</td>\n",
       "    </tr>\n",
       "    <tr>\n",
       "      <th>std</th>\n",
       "      <td>0.710417</td>\n",
       "    </tr>\n",
       "    <tr>\n",
       "      <th>min</th>\n",
       "      <td>1.000000</td>\n",
       "    </tr>\n",
       "    <tr>\n",
       "      <th>25%</th>\n",
       "      <td>1.000000</td>\n",
       "    </tr>\n",
       "    <tr>\n",
       "      <th>50%</th>\n",
       "      <td>1.000000</td>\n",
       "    </tr>\n",
       "    <tr>\n",
       "      <th>75%</th>\n",
       "      <td>1.000000</td>\n",
       "    </tr>\n",
       "    <tr>\n",
       "      <th>max</th>\n",
       "      <td>97.000000</td>\n",
       "    </tr>\n",
       "  </tbody>\n",
       "</table>\n",
       "</div>"
      ],
      "text/plain": [
       "        xDR_sessions\n",
       "count  117287.000000\n",
       "mean        1.278923\n",
       "std         0.710417\n",
       "min         1.000000\n",
       "25%         1.000000\n",
       "50%         1.000000\n",
       "75%         1.000000\n",
       "max        97.000000"
      ]
     },
     "execution_count": 12,
     "metadata": {},
     "output_type": "execute_result"
    }
   ],
   "source": [
    "xDR_sessions.describe()"
   ]
  },
  {
   "cell_type": "markdown",
   "id": "3b565e3c",
   "metadata": {},
   "source": [
    "##### Session duration"
   ]
  },
  {
   "cell_type": "code",
   "execution_count": 13,
   "id": "09a08c60",
   "metadata": {},
   "outputs": [
    {
     "data": {
      "text/html": [
       "<div>\n",
       "<style scoped>\n",
       "    .dataframe tbody tr th:only-of-type {\n",
       "        vertical-align: middle;\n",
       "    }\n",
       "\n",
       "    .dataframe tbody tr th {\n",
       "        vertical-align: top;\n",
       "    }\n",
       "\n",
       "    .dataframe thead th {\n",
       "        text-align: right;\n",
       "    }\n",
       "</style>\n",
       "<table border=\"1\" class=\"dataframe\">\n",
       "  <thead>\n",
       "    <tr style=\"text-align: right;\">\n",
       "      <th></th>\n",
       "      <th>total_ul_(MegaBytes)</th>\n",
       "      <th>total_dl_(MegaBytes)</th>\n",
       "      <th>total_data(MegaBytes)</th>\n",
       "    </tr>\n",
       "    <tr>\n",
       "      <th>msisdn/number</th>\n",
       "      <th></th>\n",
       "      <th></th>\n",
       "      <th></th>\n",
       "    </tr>\n",
       "  </thead>\n",
       "  <tbody>\n",
       "    <tr>\n",
       "      <th>109.79570605376027</th>\n",
       "      <td>4003.449404</td>\n",
       "      <td>41323.599767</td>\n",
       "      <td>45327.049171</td>\n",
       "    </tr>\n",
       "    <tr>\n",
       "      <th>109.79570605376028</th>\n",
       "      <td>1656.658049</td>\n",
       "      <td>16637.013482</td>\n",
       "      <td>18293.671531</td>\n",
       "    </tr>\n",
       "    <tr>\n",
       "      <th>33625779332.0</th>\n",
       "      <td>729.577380</td>\n",
       "      <td>7770.043342</td>\n",
       "      <td>8499.620722</td>\n",
       "    </tr>\n",
       "    <tr>\n",
       "      <th>33760536639.0</th>\n",
       "      <td>656.193062</td>\n",
       "      <td>7332.347986</td>\n",
       "      <td>7988.541048</td>\n",
       "    </tr>\n",
       "    <tr>\n",
       "      <th>33626320676.0</th>\n",
       "      <td>669.650721</td>\n",
       "      <td>7301.516540</td>\n",
       "      <td>7971.167261</td>\n",
       "    </tr>\n",
       "    <tr>\n",
       "      <th>33614892860.0</th>\n",
       "      <td>633.476463</td>\n",
       "      <td>7328.221743</td>\n",
       "      <td>7961.698206</td>\n",
       "    </tr>\n",
       "    <tr>\n",
       "      <th>33666464084.0</th>\n",
       "      <td>405.060976</td>\n",
       "      <td>6903.439962</td>\n",
       "      <td>7308.500938</td>\n",
       "    </tr>\n",
       "    <tr>\n",
       "      <th>33760413819.0</th>\n",
       "      <td>521.518890</td>\n",
       "      <td>6610.851624</td>\n",
       "      <td>7132.370514</td>\n",
       "    </tr>\n",
       "    <tr>\n",
       "      <th>33675877202.0</th>\n",
       "      <td>493.381560</td>\n",
       "      <td>6316.202977</td>\n",
       "      <td>6809.584537</td>\n",
       "    </tr>\n",
       "    <tr>\n",
       "      <th>33698792269.0</th>\n",
       "      <td>530.343105</td>\n",
       "      <td>6010.556021</td>\n",
       "      <td>6540.899126</td>\n",
       "    </tr>\n",
       "  </tbody>\n",
       "</table>\n",
       "</div>"
      ],
      "text/plain": [
       "                    total_ul_(MegaBytes)  total_dl_(MegaBytes)  \\\n",
       "msisdn/number                                                    \n",
       "109.79570605376027           4003.449404          41323.599767   \n",
       "109.79570605376028           1656.658049          16637.013482   \n",
       "33625779332.0                 729.577380           7770.043342   \n",
       "33760536639.0                 656.193062           7332.347986   \n",
       "33626320676.0                 669.650721           7301.516540   \n",
       "33614892860.0                 633.476463           7328.221743   \n",
       "33666464084.0                 405.060976           6903.439962   \n",
       "33760413819.0                 521.518890           6610.851624   \n",
       "33675877202.0                 493.381560           6316.202977   \n",
       "33698792269.0                 530.343105           6010.556021   \n",
       "\n",
       "                    total_data(MegaBytes)  \n",
       "msisdn/number                              \n",
       "109.79570605376027           45327.049171  \n",
       "109.79570605376028           18293.671531  \n",
       "33625779332.0                 8499.620722  \n",
       "33760536639.0                 7988.541048  \n",
       "33626320676.0                 7971.167261  \n",
       "33614892860.0                 7961.698206  \n",
       "33666464084.0                 7308.500938  \n",
       "33760413819.0                 7132.370514  \n",
       "33675877202.0                 6809.584537  \n",
       "33698792269.0                 6540.899126  "
      ]
     },
     "execution_count": 13,
     "metadata": {},
     "output_type": "execute_result"
    }
   ],
   "source": [
    "total_data_df = cleann[['msisdn/number','total_ul_(MegaBytes)','total_dl_(MegaBytes)']].copy()\n",
    "total_data_df = total_data_df.groupby('msisdn/number').sum()\n",
    "total_data_df['total_data(MegaBytes)'] = total_data_df['total_ul_(MegaBytes)'] + total_data_df['total_dl_(MegaBytes)']\n",
    "total_data_df.sort_values(by=['total_data(MegaBytes)'], ascending = False).head(10)"
   ]
  },
  {
   "cell_type": "markdown",
   "id": "83dd70e4",
   "metadata": {},
   "source": [
    "##### The total data volume (in MegaBytes) during this session for each application"
   ]
  },
  {
   "cell_type": "code",
   "execution_count": 14,
   "id": "94179592",
   "metadata": {},
   "outputs": [],
   "source": [
    "cleann[\"social_media\"] = cleann[\"social_media_dl_(bytes)\"] + cleann['social_media_ul_(bytes)']\n",
    "cleann[\"google\"] = cleann[\"google_dl_(MegaBytes)\"] + cleann[\"google_ul_(MegaBytes)\"]\n",
    "cleann['email'] = cleann[\"email_dl_(MegaBytes)\"] + cleann[\"email_ul_(MegaBytes)\"]\n",
    "cleann['youtube'] = cleann[\"youtube_dl_(MegaBytes)\"] + cleann[\"youtube_ul_(MegaBytes)\"]\n",
    "cleann['netflix'] = cleann[\"netflix_dl_(MegaBytes)\"] + cleann[\"netflix_ul_(MegaBytes)\"]\n",
    "cleann[\"gaming\"] = cleann[\"gaming_dl_(MegaBytes)\"] + cleann[\"gaming_ul_(MegaBytes)\"]\n",
    "cleann['other']= cleann[\"other_dl_(bytes)\"]+ cleann[\"other_ul_(bytes)\"]\n",
    "cleann['total_data'] = cleann['total_dl_(MegaBytes)'] + cleann['total_ul_(MegaBytes)']"
   ]
  },
  {
   "cell_type": "code",
   "execution_count": 15,
   "id": "430aaffd",
   "metadata": {},
   "outputs": [],
   "source": [
    "total_data_volume = cleann[['msisdn/number','social_media','google',\n",
    "                             'email', 'youtube','netflix', 'gaming','other','total_data']].copy()"
   ]
  },
  {
   "cell_type": "code",
   "execution_count": 16,
   "id": "6ea6f08e",
   "metadata": {},
   "outputs": [
    {
     "data": {
      "text/html": [
       "<div>\n",
       "<style scoped>\n",
       "    .dataframe tbody tr th:only-of-type {\n",
       "        vertical-align: middle;\n",
       "    }\n",
       "\n",
       "    .dataframe tbody tr th {\n",
       "        vertical-align: top;\n",
       "    }\n",
       "\n",
       "    .dataframe thead th {\n",
       "        text-align: right;\n",
       "    }\n",
       "</style>\n",
       "<table border=\"1\" class=\"dataframe\">\n",
       "  <thead>\n",
       "    <tr style=\"text-align: right;\">\n",
       "      <th></th>\n",
       "      <th>social_media</th>\n",
       "      <th>google</th>\n",
       "      <th>email</th>\n",
       "      <th>youtube</th>\n",
       "      <th>netflix</th>\n",
       "      <th>gaming</th>\n",
       "      <th>other</th>\n",
       "      <th>total_data</th>\n",
       "    </tr>\n",
       "    <tr>\n",
       "      <th>msisdn/number</th>\n",
       "      <th></th>\n",
       "      <th></th>\n",
       "      <th></th>\n",
       "      <th></th>\n",
       "      <th></th>\n",
       "      <th></th>\n",
       "      <th></th>\n",
       "      <th></th>\n",
       "    </tr>\n",
       "  </thead>\n",
       "  <tbody>\n",
       "    <tr>\n",
       "      <th>33682159073.0</th>\n",
       "      <td>998368.0</td>\n",
       "      <td>10.309963</td>\n",
       "      <td>2.819606</td>\n",
       "      <td>19.708653</td>\n",
       "      <td>21.567203</td>\n",
       "      <td>719.894924</td>\n",
       "      <td>218697529.0</td>\n",
       "      <td>788.834636</td>\n",
       "    </tr>\n",
       "    <tr>\n",
       "      <th>33666760469.0</th>\n",
       "      <td>2987108.0</td>\n",
       "      <td>3.868208</td>\n",
       "      <td>2.862745</td>\n",
       "      <td>18.951679</td>\n",
       "      <td>39.410691</td>\n",
       "      <td>200.852366</td>\n",
       "      <td>796319792.0</td>\n",
       "      <td>285.170332</td>\n",
       "    </tr>\n",
       "    <tr>\n",
       "      <th>33614250486.0</th>\n",
       "      <td>4941533.0</td>\n",
       "      <td>16.533608</td>\n",
       "      <td>4.948351</td>\n",
       "      <td>34.054606</td>\n",
       "      <td>27.023860</td>\n",
       "      <td>156.544066</td>\n",
       "      <td>650186920.0</td>\n",
       "      <td>263.039497</td>\n",
       "    </tr>\n",
       "    <tr>\n",
       "      <th>33612427297.0</th>\n",
       "      <td>48575.0</td>\n",
       "      <td>5.785064</td>\n",
       "      <td>1.377068</td>\n",
       "      <td>6.025207</td>\n",
       "      <td>31.010341</td>\n",
       "      <td>122.541472</td>\n",
       "      <td>725495933.0</td>\n",
       "      <td>177.854756</td>\n",
       "    </tr>\n",
       "    <tr>\n",
       "      <th>33761893003.0</th>\n",
       "      <td>3307524.0</td>\n",
       "      <td>3.952809</td>\n",
       "      <td>4.365063</td>\n",
       "      <td>45.622420</td>\n",
       "      <td>36.366766</td>\n",
       "      <td>836.329365</td>\n",
       "      <td>408186647.0</td>\n",
       "      <td>948.686618</td>\n",
       "    </tr>\n",
       "    <tr>\n",
       "      <th>33658732040.0</th>\n",
       "      <td>3066255.0</td>\n",
       "      <td>4.385287</td>\n",
       "      <td>3.059019</td>\n",
       "      <td>24.683177</td>\n",
       "      <td>38.613240</td>\n",
       "      <td>336.428379</td>\n",
       "      <td>486236353.0</td>\n",
       "      <td>421.355222</td>\n",
       "    </tr>\n",
       "    <tr>\n",
       "      <th>33683343047.0</th>\n",
       "      <td>1364860.0</td>\n",
       "      <td>4.887953</td>\n",
       "      <td>1.058230</td>\n",
       "      <td>40.628504</td>\n",
       "      <td>24.281849</td>\n",
       "      <td>425.074504</td>\n",
       "      <td>812741494.0</td>\n",
       "      <td>505.011562</td>\n",
       "    </tr>\n",
       "    <tr>\n",
       "      <th>33782155579.0</th>\n",
       "      <td>3407281.0</td>\n",
       "      <td>11.563345</td>\n",
       "      <td>2.448143</td>\n",
       "      <td>25.442854</td>\n",
       "      <td>32.148099</td>\n",
       "      <td>564.839438</td>\n",
       "      <td>123217906.0</td>\n",
       "      <td>643.163791</td>\n",
       "    </tr>\n",
       "    <tr>\n",
       "      <th>33623344748.0</th>\n",
       "      <td>721159.0</td>\n",
       "      <td>7.842238</td>\n",
       "      <td>0.508488</td>\n",
       "      <td>39.111601</td>\n",
       "      <td>23.572940</td>\n",
       "      <td>495.744233</td>\n",
       "      <td>525464909.0</td>\n",
       "      <td>572.853879</td>\n",
       "    </tr>\n",
       "    <tr>\n",
       "      <th>33669267042.0</th>\n",
       "      <td>2810463.0</td>\n",
       "      <td>6.572503</td>\n",
       "      <td>1.571017</td>\n",
       "      <td>30.240543</td>\n",
       "      <td>33.109337</td>\n",
       "      <td>152.570283</td>\n",
       "      <td>552690408.0</td>\n",
       "      <td>234.392349</td>\n",
       "    </tr>\n",
       "  </tbody>\n",
       "</table>\n",
       "</div>"
      ],
      "text/plain": [
       "               social_media     google     email    youtube    netflix  \\\n",
       "msisdn/number                                                            \n",
       "33682159073.0      998368.0  10.309963  2.819606  19.708653  21.567203   \n",
       "33666760469.0     2987108.0   3.868208  2.862745  18.951679  39.410691   \n",
       "33614250486.0     4941533.0  16.533608  4.948351  34.054606  27.023860   \n",
       "33612427297.0       48575.0   5.785064  1.377068   6.025207  31.010341   \n",
       "33761893003.0     3307524.0   3.952809  4.365063  45.622420  36.366766   \n",
       "33658732040.0     3066255.0   4.385287  3.059019  24.683177  38.613240   \n",
       "33683343047.0     1364860.0   4.887953  1.058230  40.628504  24.281849   \n",
       "33782155579.0     3407281.0  11.563345  2.448143  25.442854  32.148099   \n",
       "33623344748.0      721159.0   7.842238  0.508488  39.111601  23.572940   \n",
       "33669267042.0     2810463.0   6.572503  1.571017  30.240543  33.109337   \n",
       "\n",
       "                   gaming        other  total_data  \n",
       "msisdn/number                                       \n",
       "33682159073.0  719.894924  218697529.0  788.834636  \n",
       "33666760469.0  200.852366  796319792.0  285.170332  \n",
       "33614250486.0  156.544066  650186920.0  263.039497  \n",
       "33612427297.0  122.541472  725495933.0  177.854756  \n",
       "33761893003.0  836.329365  408186647.0  948.686618  \n",
       "33658732040.0  336.428379  486236353.0  421.355222  \n",
       "33683343047.0  425.074504  812741494.0  505.011562  \n",
       "33782155579.0  564.839438  123217906.0  643.163791  \n",
       "33623344748.0  495.744233  525464909.0  572.853879  \n",
       "33669267042.0  152.570283  552690408.0  234.392349  "
      ]
     },
     "execution_count": 16,
     "metadata": {},
     "output_type": "execute_result"
    }
   ],
   "source": [
    "total_data_volume.groupby('msisdn/number').sum().sample(10)"
   ]
  },
  {
   "cell_type": "code",
   "execution_count": 17,
   "id": "6624b5e1",
   "metadata": {},
   "outputs": [
    {
     "data": {
      "text/html": [
       "<div>\n",
       "<style scoped>\n",
       "    .dataframe tbody tr th:only-of-type {\n",
       "        vertical-align: middle;\n",
       "    }\n",
       "\n",
       "    .dataframe tbody tr th {\n",
       "        vertical-align: top;\n",
       "    }\n",
       "\n",
       "    .dataframe thead th {\n",
       "        text-align: right;\n",
       "    }\n",
       "</style>\n",
       "<table border=\"1\" class=\"dataframe\">\n",
       "  <thead>\n",
       "    <tr style=\"text-align: right;\">\n",
       "      <th></th>\n",
       "      <th>total_ul_(MegaBytes)</th>\n",
       "      <th>total_dl_(MegaBytes)</th>\n",
       "      <th>total_data(MegaBytes)</th>\n",
       "    </tr>\n",
       "  </thead>\n",
       "  <tbody>\n",
       "    <tr>\n",
       "      <th>count</th>\n",
       "      <td>117287.000000</td>\n",
       "      <td>117287.000000</td>\n",
       "      <td>117287.000000</td>\n",
       "    </tr>\n",
       "    <tr>\n",
       "      <th>mean</th>\n",
       "      <td>52.590491</td>\n",
       "      <td>581.449901</td>\n",
       "      <td>634.040392</td>\n",
       "    </tr>\n",
       "    <tr>\n",
       "      <th>std</th>\n",
       "      <td>31.891257</td>\n",
       "      <td>421.655091</td>\n",
       "      <td>444.310329</td>\n",
       "    </tr>\n",
       "    <tr>\n",
       "      <th>min</th>\n",
       "      <td>2.866892</td>\n",
       "      <td>7.114041</td>\n",
       "      <td>28.956107</td>\n",
       "    </tr>\n",
       "    <tr>\n",
       "      <th>25%</th>\n",
       "      <td>35.552323</td>\n",
       "      <td>293.148239</td>\n",
       "      <td>336.192755</td>\n",
       "    </tr>\n",
       "    <tr>\n",
       "      <th>50%</th>\n",
       "      <td>45.074423</td>\n",
       "      <td>538.407477</td>\n",
       "      <td>584.315486</td>\n",
       "    </tr>\n",
       "    <tr>\n",
       "      <th>75%</th>\n",
       "      <td>58.413227</td>\n",
       "      <td>769.471493</td>\n",
       "      <td>817.599756</td>\n",
       "    </tr>\n",
       "    <tr>\n",
       "      <th>max</th>\n",
       "      <td>4003.449404</td>\n",
       "      <td>41323.599767</td>\n",
       "      <td>45327.049171</td>\n",
       "    </tr>\n",
       "  </tbody>\n",
       "</table>\n",
       "</div>"
      ],
      "text/plain": [
       "       total_ul_(MegaBytes)  total_dl_(MegaBytes)  total_data(MegaBytes)\n",
       "count         117287.000000         117287.000000          117287.000000\n",
       "mean              52.590491            581.449901             634.040392\n",
       "std               31.891257            421.655091             444.310329\n",
       "min                2.866892              7.114041              28.956107\n",
       "25%               35.552323            293.148239             336.192755\n",
       "50%               45.074423            538.407477             584.315486\n",
       "75%               58.413227            769.471493             817.599756\n",
       "max             4003.449404          41323.599767           45327.049171"
      ]
     },
     "execution_count": 17,
     "metadata": {},
     "output_type": "execute_result"
    }
   ],
   "source": [
    "total_data_df.describe()"
   ]
  },
  {
   "cell_type": "code",
   "execution_count": 18,
   "id": "ae50d1a4",
   "metadata": {},
   "outputs": [
    {
     "name": "stdout",
     "output_type": "stream",
     "text": [
      "<class 'pandas.core.frame.DataFrame'>\n",
      "RangeIndex: 150001 entries, 0 to 150000\n",
      "Data columns (total 53 columns):\n",
      " #   Column                          Non-Null Count   Dtype  \n",
      "---  ------                          --------------   -----  \n",
      " 0   bearer_id                       150001 non-null  object \n",
      " 1   start                           150001 non-null  object \n",
      " 2   start_ms                        150001 non-null  float64\n",
      " 3   end                             150001 non-null  object \n",
      " 4   end_ms                          150001 non-null  float64\n",
      " 5   dur._(ms)                       150001 non-null  float64\n",
      " 6   imsi                            150001 non-null  object \n",
      " 7   msisdn/number                   150001 non-null  object \n",
      " 8   imei                            150001 non-null  object \n",
      " 9   last_location_name              150001 non-null  object \n",
      " 10  avg_rtt_dl_(ms)                 150001 non-null  float64\n",
      " 11  avg_rtt_ul_(ms)                 150001 non-null  float64\n",
      " 12  avg_bearer_tp_dl_(kbps)         150001 non-null  float64\n",
      " 13  avg_bearer_tp_ul_(kbps)         150001 non-null  float64\n",
      " 14  dl_tp_<_50_kbps_(%)             150001 non-null  float64\n",
      " 15  50_kbps_<_dl_tp_<_250_kbps_(%)  150001 non-null  float64\n",
      " 16  250_kbps_<_dl_tp_<_1_mbps_(%)   150001 non-null  float64\n",
      " 17  dl_tp_>_1_mbps_(%)              150001 non-null  float64\n",
      " 18  ul_tp_<_10_kbps_(%)             150001 non-null  float64\n",
      " 19  10_kbps_<_ul_tp_<_50_kbps_(%)   150001 non-null  float64\n",
      " 20  50_kbps_<_ul_tp_<_300_kbps_(%)  150001 non-null  float64\n",
      " 21  ul_tp_>_300_kbps_(%)            150001 non-null  float64\n",
      " 22  activity_duration_dl_(ms)       150001 non-null  float64\n",
      " 23  activity_duration_ul_(ms)       150001 non-null  float64\n",
      " 24  dur._(ms).1                     150001 non-null  float64\n",
      " 25  handset_manufacturer            150001 non-null  object \n",
      " 26  handset_type                    150001 non-null  object \n",
      " 27  nb_of_sec_with_vol_dl_<_6250b   150001 non-null  float64\n",
      " 28  nb_of_sec_with_vol_ul_<_1250b   150001 non-null  float64\n",
      " 29  social_media_dl_(bytes)         150001 non-null  float64\n",
      " 30  social_media_ul_(bytes)         150001 non-null  float64\n",
      " 31  google_dl_(MegaBytes)           150001 non-null  float64\n",
      " 32  google_ul_(MegaBytes)           150001 non-null  float64\n",
      " 33  email_dl_(MegaBytes)            150001 non-null  float64\n",
      " 34  email_ul_(MegaBytes)            150001 non-null  float64\n",
      " 35  youtube_dl_(MegaBytes)          150001 non-null  float64\n",
      " 36  youtube_ul_(MegaBytes)          150001 non-null  float64\n",
      " 37  netflix_dl_(MegaBytes)          150001 non-null  float64\n",
      " 38  netflix_ul_(MegaBytes)          150001 non-null  float64\n",
      " 39  gaming_dl_(MegaBytes)           150001 non-null  float64\n",
      " 40  gaming_ul_(MegaBytes)           150001 non-null  float64\n",
      " 41  other_dl_(bytes)                150001 non-null  float64\n",
      " 42  other_ul_(bytes)                150001 non-null  float64\n",
      " 43  total_ul_(MegaBytes)            150000 non-null  float64\n",
      " 44  total_dl_(MegaBytes)            150000 non-null  float64\n",
      " 45  social_media                    150001 non-null  float64\n",
      " 46  google                          150001 non-null  float64\n",
      " 47  email                           150001 non-null  float64\n",
      " 48  youtube                         150001 non-null  float64\n",
      " 49  netflix                         150001 non-null  float64\n",
      " 50  gaming                          150001 non-null  float64\n",
      " 51  other                           150001 non-null  float64\n",
      " 52  total_data                      150000 non-null  float64\n",
      "dtypes: float64(44), object(9)\n",
      "memory usage: 60.7+ MB\n"
     ]
    }
   ],
   "source": [
    "cleann.info()"
   ]
  },
  {
   "cell_type": "markdown",
   "id": "4487d508",
   "metadata": {},
   "source": [
    "###### Conduct a Non-Graphical Univariate Analysis by computing dispersion parameters for each quantitative variable and provide useful interpretation. "
   ]
  },
  {
   "cell_type": "code",
   "execution_count": 19,
   "id": "cca5075e",
   "metadata": {},
   "outputs": [
    {
     "data": {
      "text/plain": [
       "(150001, 44)"
      ]
     },
     "execution_count": 19,
     "metadata": {},
     "output_type": "execute_result"
    }
   ],
   "source": [
    "numerical_features = df.select_dtypes(include=['float', 'int'])\n",
    "numerical_features.shape"
   ]
  },
  {
   "cell_type": "code",
   "execution_count": 20,
   "id": "000834dd",
   "metadata": {},
   "outputs": [
    {
     "data": {
      "text/html": [
       "<div>\n",
       "<style scoped>\n",
       "    .dataframe tbody tr th:only-of-type {\n",
       "        vertical-align: middle;\n",
       "    }\n",
       "\n",
       "    .dataframe tbody tr th {\n",
       "        vertical-align: top;\n",
       "    }\n",
       "\n",
       "    .dataframe thead th {\n",
       "        text-align: right;\n",
       "    }\n",
       "</style>\n",
       "<table border=\"1\" class=\"dataframe\">\n",
       "  <thead>\n",
       "    <tr style=\"text-align: right;\">\n",
       "      <th></th>\n",
       "      <th>social_media</th>\n",
       "      <th>google</th>\n",
       "      <th>email</th>\n",
       "      <th>youtube</th>\n",
       "      <th>netflix</th>\n",
       "      <th>gaming</th>\n",
       "      <th>other</th>\n",
       "      <th>total_data</th>\n",
       "    </tr>\n",
       "  </thead>\n",
       "  <tbody>\n",
       "    <tr>\n",
       "      <th>count</th>\n",
       "      <td>1.500010e+05</td>\n",
       "      <td>150001.000000</td>\n",
       "      <td>150001.000000</td>\n",
       "      <td>150001.000000</td>\n",
       "      <td>150001.000000</td>\n",
       "      <td>150001.000000</td>\n",
       "      <td>1.500010e+05</td>\n",
       "      <td>150000.000000</td>\n",
       "    </tr>\n",
       "    <tr>\n",
       "      <th>mean</th>\n",
       "      <td>1.828250e+06</td>\n",
       "      <td>7.807295</td>\n",
       "      <td>2.259102</td>\n",
       "      <td>22.643483</td>\n",
       "      <td>22.628607</td>\n",
       "      <td>430.333101</td>\n",
       "      <td>4.293653e+08</td>\n",
       "      <td>495.764636</td>\n",
       "    </tr>\n",
       "    <tr>\n",
       "      <th>std</th>\n",
       "      <td>1.035646e+06</td>\n",
       "      <td>3.516420</td>\n",
       "      <td>1.071109</td>\n",
       "      <td>9.246800</td>\n",
       "      <td>9.260820</td>\n",
       "      <td>244.019924</td>\n",
       "      <td>2.432681e+08</td>\n",
       "      <td>244.381802</td>\n",
       "    </tr>\n",
       "    <tr>\n",
       "      <th>min</th>\n",
       "      <td>1.563000e+03</td>\n",
       "      <td>0.040330</td>\n",
       "      <td>0.008359</td>\n",
       "      <td>0.078903</td>\n",
       "      <td>0.098432</td>\n",
       "      <td>0.306358</td>\n",
       "      <td>1.490450e+05</td>\n",
       "      <td>28.956107</td>\n",
       "    </tr>\n",
       "    <tr>\n",
       "      <th>25%</th>\n",
       "      <td>9.322180e+05</td>\n",
       "      <td>4.943599</td>\n",
       "      <td>1.359344</td>\n",
       "      <td>15.998463</td>\n",
       "      <td>15.979455</td>\n",
       "      <td>218.727939</td>\n",
       "      <td>2.185534e+08</td>\n",
       "      <td>284.475924</td>\n",
       "    </tr>\n",
       "    <tr>\n",
       "      <th>50%</th>\n",
       "      <td>1.826471e+06</td>\n",
       "      <td>7.812835</td>\n",
       "      <td>2.263567</td>\n",
       "      <td>22.661770</td>\n",
       "      <td>22.635545</td>\n",
       "      <td>431.614977</td>\n",
       "      <td>4.299865e+08</td>\n",
       "      <td>496.861102</td>\n",
       "    </tr>\n",
       "    <tr>\n",
       "      <th>75%</th>\n",
       "      <td>2.727487e+06</td>\n",
       "      <td>10.682796</td>\n",
       "      <td>3.159818</td>\n",
       "      <td>29.292604</td>\n",
       "      <td>29.290445</td>\n",
       "      <td>641.415878</td>\n",
       "      <td>6.399275e+08</td>\n",
       "      <td>706.505882</td>\n",
       "    </tr>\n",
       "    <tr>\n",
       "      <th>max</th>\n",
       "      <td>3.650861e+06</td>\n",
       "      <td>15.528782</td>\n",
       "      <td>4.518036</td>\n",
       "      <td>45.190078</td>\n",
       "      <td>45.198153</td>\n",
       "      <td>859.202784</td>\n",
       "      <td>8.595209e+08</td>\n",
       "      <td>955.984776</td>\n",
       "    </tr>\n",
       "  </tbody>\n",
       "</table>\n",
       "</div>"
      ],
      "text/plain": [
       "       social_media         google          email        youtube  \\\n",
       "count  1.500010e+05  150001.000000  150001.000000  150001.000000   \n",
       "mean   1.828250e+06       7.807295       2.259102      22.643483   \n",
       "std    1.035646e+06       3.516420       1.071109       9.246800   \n",
       "min    1.563000e+03       0.040330       0.008359       0.078903   \n",
       "25%    9.322180e+05       4.943599       1.359344      15.998463   \n",
       "50%    1.826471e+06       7.812835       2.263567      22.661770   \n",
       "75%    2.727487e+06      10.682796       3.159818      29.292604   \n",
       "max    3.650861e+06      15.528782       4.518036      45.190078   \n",
       "\n",
       "             netflix         gaming         other     total_data  \n",
       "count  150001.000000  150001.000000  1.500010e+05  150000.000000  \n",
       "mean       22.628607     430.333101  4.293653e+08     495.764636  \n",
       "std         9.260820     244.019924  2.432681e+08     244.381802  \n",
       "min         0.098432       0.306358  1.490450e+05      28.956107  \n",
       "25%        15.979455     218.727939  2.185534e+08     284.475924  \n",
       "50%        22.635545     431.614977  4.299865e+08     496.861102  \n",
       "75%        29.290445     641.415878  6.399275e+08     706.505882  \n",
       "max        45.198153     859.202784  8.595209e+08     955.984776  "
      ]
     },
     "execution_count": 20,
     "metadata": {},
     "output_type": "execute_result"
    }
   ],
   "source": [
    "important_features = [ 'social_media', 'google', 'email', 'youtube', 'netflix','gaming','other','total_data']\n",
    "numerical_features[important_features].describe()\n",
    "\n"
   ]
  },
  {
   "cell_type": "code",
   "execution_count": 302,
   "id": "809915cd",
   "metadata": {},
   "outputs": [],
   "source": [
    "cleann.to_csv(\"../Data/clean_telecom_data_source.csv\", index = None,  header=True)"
   ]
  },
  {
   "cell_type": "markdown",
   "id": "ada1f0d7",
   "metadata": {},
   "source": [
    "## Univariant Analysis"
   ]
  },
  {
   "cell_type": "markdown",
   "id": "41e1ef0d",
   "metadata": {},
   "source": [
    "###### Conduct a Graphical Univariate Analysis by identifying the most suitable plotting options for each variable and interpret your findings."
   ]
  },
  {
   "cell_type": "code",
   "execution_count": 21,
   "id": "c3c58aa3",
   "metadata": {},
   "outputs": [],
   "source": [
    "import matplotlib.pyplot as plt\n",
    "import seaborn as sns\n",
    "import plotly.express as px\n",
    "sns.set()\n",
    "%matplotlib inline"
   ]
  },
  {
   "cell_type": "code",
   "execution_count": 22,
   "id": "b96138fb",
   "metadata": {},
   "outputs": [
    {
     "data": {
      "text/plain": [
       "<AxesSubplot:xlabel='google'>"
      ]
     },
     "execution_count": 22,
     "metadata": {},
     "output_type": "execute_result"
    },
    {
     "data": {
      "image/png": "[encoded data removed]",
      "text/plain": [
       "<Figure size 864x288 with 1 Axes>"
      ]
     },
     "metadata": {
      "needs_background": "light"
     },
     "output_type": "display_data"
    }
   ],
   "source": [
    "\n",
    "plt.figure(figsize=(12, 4),edgecolor='#1f3047')\n",
    "sns.boxplot(df['google'])"
   ]
  },
  {
   "cell_type": "code",
   "execution_count": 23,
   "id": "4fa47aaf",
   "metadata": {},
   "outputs": [
    {
     "data": {
      "text/plain": [
       "<AxesSubplot:xlabel='email'>"
      ]
     },
     "execution_count": 23,
     "metadata": {},
     "output_type": "execute_result"
    },
    {
     "data": {
      "image/png": "[encoded data removed]",
      "text/plain": [
       "<Figure size 864x288 with 1 Axes>"
      ]
     },
     "metadata": {
      "needs_background": "light"
     },
     "output_type": "display_data"
    }
   ],
   "source": [
    "plt.figure(figsize=(12, 4),edgecolor='#1f3047')\n",
    "sns.boxplot(df['email'])"
   ]
  },
  {
   "cell_type": "code",
   "execution_count": 24,
   "id": "d8230988",
   "metadata": {},
   "outputs": [
    {
     "data": {
      "text/plain": [
       "<AxesSubplot:xlabel='gaming'>"
      ]
     },
     "execution_count": 24,
     "metadata": {},
     "output_type": "execute_result"
    },
    {
     "data": {
      "image/png": "[encoded data removed]",
      "text/plain": [
       "<Figure size 864x288 with 1 Axes>"
      ]
     },
     "metadata": {
      "needs_background": "light"
     },
     "output_type": "display_data"
    }
   ],
   "source": [
    "\n",
    "plt.figure(figsize=(12, 4),edgecolor='#1f3047')\n",
    "sns.boxplot(df['gaming'])"
   ]
  },
  {
   "cell_type": "code",
   "execution_count": null,
   "id": "50ac966d",
   "metadata": {},
   "outputs": [],
   "source": []
  },
  {
   "cell_type": "markdown",
   "id": "0939eeee",
   "metadata": {},
   "source": [
    "## <b>Distribution histogram plot of each data<b>"
   ]
  },
  {
   "cell_type": "code",
   "execution_count": 50,
   "id": "cbc18b5f",
   "metadata": {},
   "outputs": [
    {
     "data": {
      "image/png": "[encoded data removed]",
      "text/plain": [
       "<Figure size 864x504 with 1 Axes>"
      ]
     },
     "metadata": {
      "needs_background": "light"
     },
     "output_type": "display_data"
    }
   ],
   "source": [
    "#social_media\n",
    "numerical_features['social_media'].plot.hist(bins=45, color='dodgerblue', figsize=(12, 7))\n",
    "plt.title(f'Social media data', size=20, fontweight='bold')\n",
    "plt.show()"
   ]
  },
  {
   "cell_type": "code",
   "execution_count": 56,
   "id": "cbb110e6",
   "metadata": {},
   "outputs": [
    {
     "data": {
      "image/png": "[encoded data removed]",
      "text/plain": [
       "<Figure size 864x504 with 1 Axes>"
      ]
     },
     "metadata": {
      "needs_background": "light"
     },
     "output_type": "display_data"
    }
   ],
   "source": [
    "important_features = [ 'social_media', 'google', 'email', 'youtube', 'netflix','gaming']\n",
    "numerical_features['google'].plot.hist(bins=45, color='gold', figsize=(12, 7))\n",
    "plt.title(f'Google data distribution', size=20, fontweight='bold')\n",
    "plt.show()"
   ]
  },
  {
   "cell_type": "code",
   "execution_count": 58,
   "id": "1a05a2b9",
   "metadata": {},
   "outputs": [
    {
     "data": {
      "image/png": "[encoded data removed]",
      "text/plain": [
       "<Figure size 864x504 with 1 Axes>"
      ]
     },
     "metadata": {
      "needs_background": "light"
     },
     "output_type": "display_data"
    }
   ],
   "source": [
    "numerical_features['email'].plot.hist(bins=45, color='limegreen', figsize=(12, 7))\n",
    "plt.title(f'Email data distribution', size=20, fontweight='bold')\n",
    "plt.show()"
   ]
  },
  {
   "cell_type": "code",
   "execution_count": 61,
   "id": "9611646e",
   "metadata": {},
   "outputs": [
    {
     "data": {
      "image/png": "[encoded data removed]",
      "text/plain": [
       "<Figure size 864x504 with 1 Axes>"
      ]
     },
     "metadata": {
      "needs_background": "light"
     },
     "output_type": "display_data"
    }
   ],
   "source": [
    "numerical_features['netflix'].plot.hist(bins=45, color='firebrick', figsize=(12, 7))\n",
    "plt.title(f'Netflix data distribution', size=20, fontweight='bold')\n",
    "plt.show()"
   ]
  },
  {
   "cell_type": "code",
   "execution_count": 60,
   "id": "8f0354f0",
   "metadata": {},
   "outputs": [
    {
     "data": {
      "image/png": "[encoded data removed]",
      "text/plain": [
       "<Figure size 864x504 with 1 Axes>"
      ]
     },
     "metadata": {
      "needs_background": "light"
     },
     "output_type": "display_data"
    }
   ],
   "source": [
    "numerical_features['gaming'].plot.hist(bins=45, color='teal', figsize=(12, 7))\n",
    "plt.title(f'Gaming data distribution', size=20, fontweight='bold')\n",
    "plt.show()"
   ]
  },
  {
   "cell_type": "markdown",
   "id": "410d38fa",
   "metadata": {},
   "source": [
    "# Bivariate Analysis "
   ]
  },
  {
   "cell_type": "markdown",
   "id": "69c5f6b6",
   "metadata": {},
   "source": [
    "#### Relationship between each application & the total DL+UL data"
   ]
  },
  {
   "cell_type": "code",
   "execution_count": 77,
   "id": "cfa98a4f",
   "metadata": {},
   "outputs": [
    {
     "data": {
      "image/png": "[encoded data removed]",
      "text/plain": [
       "<Figure size 864x504 with 1 Axes>"
      ]
     },
     "metadata": {
      "needs_background": "light"
     },
     "output_type": "display_data"
    }
   ],
   "source": [
    "df_sample= df.sample(1000)\n",
    "plt.figure(figsize=(12, 7))\n",
    "sns.scatterplot(data = df_sample, x='email', y='total_data')\n",
    "plt.title('Scatter plot', size=20)\n",
    "plt.ylabel('Total Data',size=10)\n",
    "plt.show()"
   ]
  },
  {
   "cell_type": "markdown",
   "id": "a58f425c",
   "metadata": {},
   "source": [
    "> Relationship between Total DL&UL and Email App"
   ]
  },
  {
   "cell_type": "code",
   "execution_count": 81,
   "id": "b6b896f3",
   "metadata": {},
   "outputs": [
    {
     "data": {
      "image/png": "[encoded data removed]",
      "text/plain": [
       "<Figure size 864x504 with 1 Axes>"
      ]
     },
     "metadata": {
      "needs_background": "light"
     },
     "output_type": "display_data"
    }
   ],
   "source": [
    "df_sample= df.sample(1000)\n",
    "plt.figure(figsize=(12, 7))\n",
    "sns.scatterplot(data = df_sample, x='google', y='total_data')\n",
    "plt.title('Scatter plot', size=20)\n",
    "plt.ylabel('Total Data',size=10)\n",
    "plt.show()"
   ]
  },
  {
   "cell_type": "markdown",
   "id": "0bb22b40",
   "metadata": {},
   "source": [
    "> Relationship between Total DL&UL and Google App"
   ]
  },
  {
   "cell_type": "code",
   "execution_count": 87,
   "id": "9a5f649e",
   "metadata": {},
   "outputs": [
    {
     "data": {
      "image/png": "[encoded data removed]",
      "text/plain": [
       "<Figure size 864x504 with 1 Axes>"
      ]
     },
     "metadata": {
      "needs_background": "light"
     },
     "output_type": "display_data"
    }
   ],
   "source": [
    "df_sample= df.sample(1000)\n",
    "plt.figure(figsize=(12, 7))\n",
    "sns.scatterplot(data = df_sample, x='social_media', y='total_data')\n",
    "plt.title('Scatter plot', size=20)\n",
    "plt.ylabel('Total Data',size=10)\n",
    "plt.show()"
   ]
  },
  {
   "cell_type": "markdown",
   "id": "7841f55b",
   "metadata": {},
   "source": [
    "> Relationship between Total DL&UL and Social media Apps"
   ]
  },
  {
   "cell_type": "code",
   "execution_count": 88,
   "id": "c3be1967",
   "metadata": {},
   "outputs": [
    {
     "data": {
      "image/png": "[encoded data removed]",
      "text/plain": [
       "<Figure size 864x504 with 1 Axes>"
      ]
     },
     "metadata": {
      "needs_background": "light"
     },
     "output_type": "display_data"
    }
   ],
   "source": [
    "df_sample= df.sample(1000)\n",
    "plt.figure(figsize=(12, 7))\n",
    "sns.scatterplot(data = df_sample, x='netflix', y='total_data')\n",
    "plt.title('Scatter plot', size=20)\n",
    "plt.ylabel('Total Data',size=10)\n",
    "plt.show()"
   ]
  },
  {
   "cell_type": "markdown",
   "id": "89d1ea07",
   "metadata": {},
   "source": [
    ">Relationship between Total DL&UL and Netflix"
   ]
  },
  {
   "cell_type": "markdown",
   "id": "e46b2cb6",
   "metadata": {},
   "source": [
    "#### Visualize the correlation with a plot"
   ]
  },
  {
   "cell_type": "code",
   "execution_count": 300,
   "id": "fefeabe7",
   "metadata": {},
   "outputs": [
    {
     "data": {
      "text/html": [
       "<div>\n",
       "<style scoped>\n",
       "    .dataframe tbody tr th:only-of-type {\n",
       "        vertical-align: middle;\n",
       "    }\n",
       "\n",
       "    .dataframe tbody tr th {\n",
       "        vertical-align: top;\n",
       "    }\n",
       "\n",
       "    .dataframe thead th {\n",
       "        text-align: right;\n",
       "    }\n",
       "</style>\n",
       "<table border=\"1\" class=\"dataframe\">\n",
       "  <thead>\n",
       "    <tr style=\"text-align: right;\">\n",
       "      <th></th>\n",
       "      <th>email</th>\n",
       "      <th>gaming</th>\n",
       "      <th>google</th>\n",
       "      <th>social_media</th>\n",
       "      <th>youtube</th>\n",
       "      <th>netflix</th>\n",
       "      <th>other</th>\n",
       "      <th>total_data</th>\n",
       "    </tr>\n",
       "  </thead>\n",
       "  <tbody>\n",
       "    <tr>\n",
       "      <th>email</th>\n",
       "      <td>1.000000</td>\n",
       "      <td>-0.000644</td>\n",
       "      <td>-0.000412</td>\n",
       "      <td>0.004032</td>\n",
       "      <td>-0.002919</td>\n",
       "      <td>0.001029</td>\n",
       "      <td>-0.001299</td>\n",
       "      <td>0.003768</td>\n",
       "    </tr>\n",
       "    <tr>\n",
       "      <th>gaming</th>\n",
       "      <td>-0.000644</td>\n",
       "      <td>1.000000</td>\n",
       "      <td>-0.000994</td>\n",
       "      <td>0.001082</td>\n",
       "      <td>-0.002999</td>\n",
       "      <td>-0.003109</td>\n",
       "      <td>-0.002661</td>\n",
       "      <td>0.998254</td>\n",
       "    </tr>\n",
       "    <tr>\n",
       "      <th>google</th>\n",
       "      <td>-0.000412</td>\n",
       "      <td>-0.000994</td>\n",
       "      <td>1.000000</td>\n",
       "      <td>-0.001708</td>\n",
       "      <td>0.002277</td>\n",
       "      <td>-0.001902</td>\n",
       "      <td>-0.001727</td>\n",
       "      <td>0.013370</td>\n",
       "    </tr>\n",
       "    <tr>\n",
       "      <th>social_media</th>\n",
       "      <td>0.004032</td>\n",
       "      <td>0.001082</td>\n",
       "      <td>-0.001708</td>\n",
       "      <td>1.000000</td>\n",
       "      <td>0.000548</td>\n",
       "      <td>0.001013</td>\n",
       "      <td>0.006065</td>\n",
       "      <td>0.005383</td>\n",
       "    </tr>\n",
       "    <tr>\n",
       "      <th>youtube</th>\n",
       "      <td>-0.002919</td>\n",
       "      <td>-0.002999</td>\n",
       "      <td>0.002277</td>\n",
       "      <td>0.000548</td>\n",
       "      <td>1.000000</td>\n",
       "      <td>0.002882</td>\n",
       "      <td>0.002969</td>\n",
       "      <td>0.034888</td>\n",
       "    </tr>\n",
       "    <tr>\n",
       "      <th>netflix</th>\n",
       "      <td>0.001029</td>\n",
       "      <td>-0.003109</td>\n",
       "      <td>-0.001902</td>\n",
       "      <td>0.001013</td>\n",
       "      <td>0.002882</td>\n",
       "      <td>1.000000</td>\n",
       "      <td>-0.009033</td>\n",
       "      <td>0.034798</td>\n",
       "    </tr>\n",
       "    <tr>\n",
       "      <th>other</th>\n",
       "      <td>-0.001299</td>\n",
       "      <td>-0.002661</td>\n",
       "      <td>-0.001727</td>\n",
       "      <td>0.006065</td>\n",
       "      <td>0.002969</td>\n",
       "      <td>-0.009033</td>\n",
       "      <td>1.000000</td>\n",
       "      <td>-0.002443</td>\n",
       "    </tr>\n",
       "    <tr>\n",
       "      <th>total_data</th>\n",
       "      <td>0.003768</td>\n",
       "      <td>0.998254</td>\n",
       "      <td>0.013370</td>\n",
       "      <td>0.005383</td>\n",
       "      <td>0.034888</td>\n",
       "      <td>0.034798</td>\n",
       "      <td>-0.002443</td>\n",
       "      <td>1.000000</td>\n",
       "    </tr>\n",
       "  </tbody>\n",
       "</table>\n",
       "</div>"
      ],
      "text/plain": [
       "                 email    gaming    google  social_media   youtube   netflix  \\\n",
       "email         1.000000 -0.000644 -0.000412      0.004032 -0.002919  0.001029   \n",
       "gaming       -0.000644  1.000000 -0.000994      0.001082 -0.002999 -0.003109   \n",
       "google       -0.000412 -0.000994  1.000000     -0.001708  0.002277 -0.001902   \n",
       "social_media  0.004032  0.001082 -0.001708      1.000000  0.000548  0.001013   \n",
       "youtube      -0.002919 -0.002999  0.002277      0.000548  1.000000  0.002882   \n",
       "netflix       0.001029 -0.003109 -0.001902      0.001013  0.002882  1.000000   \n",
       "other        -0.001299 -0.002661 -0.001727      0.006065  0.002969 -0.009033   \n",
       "total_data    0.003768  0.998254  0.013370      0.005383  0.034888  0.034798   \n",
       "\n",
       "                 other  total_data  \n",
       "email        -0.001299    0.003768  \n",
       "gaming       -0.002661    0.998254  \n",
       "google       -0.001727    0.013370  \n",
       "social_media  0.006065    0.005383  \n",
       "youtube       0.002969    0.034888  \n",
       "netflix      -0.009033    0.034798  \n",
       "other         1.000000   -0.002443  \n",
       "total_data   -0.002443    1.000000  "
      ]
     },
     "execution_count": 300,
     "metadata": {},
     "output_type": "execute_result"
    }
   ],
   "source": [
    "#important_features = [ 'social_media', 'google', 'email', 'youtube', 'netflix','gaming']\n",
    "corr_analysis = df[['email', 'gaming', \n",
    "                    'google', 'social_media', 'youtube',\n",
    "                   'netflix','other','total_data']].corr()\n",
    "corr_analysis"
   ]
  },
  {
   "cell_type": "code",
   "execution_count": 301,
   "id": "f6aa9156",
   "metadata": {},
   "outputs": [
    {
     "data": {
      "image/png": "[encoded data removed]",
      "text/plain": [
       "<Figure size 864x504 with 1 Axes>"
      ]
     },
     "metadata": {
      "needs_background": "light"
     },
     "output_type": "display_data"
    }
   ],
   "source": [
    "plt.figure(figsize=(12, 7))\n",
    "sns.heatmap(corr_analysis, annot=True, cmap='viridis', vmin=0, vmax=1, fmt='.3f', linewidths=.7, cbar=False )\n",
    "plt.title('Application Data Correlation', size=18, fontweight='bold')\n",
    "plt.show()\n"
   ]
  },
  {
   "cell_type": "markdown",
   "id": "cd3e98ce",
   "metadata": {},
   "source": [
    "#########################################################################################################"
   ]
  },
  {
   "cell_type": "code",
   "execution_count": 305,
   "id": "d3423739",
   "metadata": {},
   "outputs": [],
   "source": [
    "#saving the data clean telecom data\n",
    "cleann.to_csv(\"../Data/clean_telecom_data_source.csv\", index = None,  header=True)"
   ]
  },
  {
   "cell_type": "code",
   "execution_count": null,
   "id": "0b3e8c85",
   "metadata": {},
   "outputs": [],
   "source": []
  }
 ],
 "metadata": {
  "kernelspec": {
   "display_name": "Python 3",
   "language": "python",
   "name": "python3"
  },
  "language_info": {
   "codemirror_mode": {
    "name": "ipython",
    "version": 3
   },
   "file_extension": ".py",
   "mimetype": "text/x-python",
   "name": "python",
   "nbconvert_exporter": "python",
   "pygments_lexer": "ipython3",
   "version": "3.8.8"
  }
 },
 "nbformat": 4,
 "nbformat_minor": 5
}
